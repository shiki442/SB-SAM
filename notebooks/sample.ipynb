{
 "cells": [
  {
   "cell_type": "code",
   "execution_count": 1,
   "metadata": {},
   "outputs": [],
   "source": [
    "import os, sys\n",
    "root_dir = '../'\n",
    "sys.path.append(root_dir)\n",
    "from config import config\n",
    "from SAM.train import evaluate_model"
   ]
  },
  {
   "cell_type": "code",
   "execution_count": 2,
   "metadata": {},
   "outputs": [
    {
     "name": "stdout",
     "output_type": "stream",
     "text": [
      "20250223_215248_N50_n30_k5_d1\n"
     ]
    }
   ],
   "source": [
    "dir_paths = os.path.join(root_dir, 'output')\n",
    "\n",
    "V_dict = {}\n",
    "V_pred_dict = {}\n",
    "V_pdc_dict = {}\n",
    "n_max = 50\n",
    "\n",
    "dir_paths = os.listdir(dir_paths)\n",
    "dir_path = dir_paths[-2]\n",
    "\n",
    "print(dir_path)"
   ]
  },
  {
   "cell_type": "code",
   "execution_count": 3,
   "metadata": {},
   "outputs": [],
   "source": [
    "dir_path = os.path.join(root_dir, 'output', dir_path)\n",
    "path_param = os.path.join(dir_path, 'params/config.yml')\n",
    "cfg = config.load_config(path_param)\n",
    "cfg.path.output = dir_path\n",
    "config.check_config(cfg, save_cfg=False, check_path=False)\n",
    "config.check_path_config(cfg, root_dir, create_new_file=False)\n"
   ]
  },
  {
   "cell_type": "code",
   "execution_count": 4,
   "metadata": {},
   "outputs": [
    {
     "name": "stderr",
     "output_type": "stream",
     "text": [
      "c:\\Users\\78103\\OneDrive\\PC\\Code Library\\SAM\\notebooks\\..\\SAM\\checkpoint.py:12: FutureWarning: You are using `torch.load` with `weights_only=False` (the current default value), which uses the default pickle module implicitly. It is possible to construct malicious pickle data which will execute arbitrary code during unpickling (See https://github.com/pytorch/pytorch/blob/main/SECURITY.md#untrusted-models for more details). In a future release, the default value for `weights_only` will be flipped to `True`. This limits the functions that could be executed during unpickling. Arbitrary objects will no longer be allowed to be loaded via this mode unless they are explicitly allowlisted by the user via `torch.serialization.add_safe_globals`. We recommend you start setting `weights_only=True` for any use case where you don't have full control of the loaded file. Please open an issue on GitHub for any issues related to this experimental feature.\n",
      "  loaded_state = torch.load(ckpt_dir, map_location=device)\n",
      "Sampling: 100%|██████████| 2000/2000 [00:07<00:00, 277.81it/s]"
     ]
    },
    {
     "name": "stdout",
     "output_type": "stream",
     "text": [
      "Mean Error: 0.04886, Std Error: 0.03387\n",
      "Predicted Potential: 0.00322\n",
      "Potential Error: 0.06126\n"
     ]
    },
    {
     "name": "stderr",
     "output_type": "stream",
     "text": [
      "\n"
     ]
    }
   ],
   "source": [
    "V_pred = evaluate_model(cfg, dir_path)"
   ]
  }
 ],
 "metadata": {
  "kernelspec": {
   "display_name": "torch",
   "language": "python",
   "name": "python3"
  },
  "language_info": {
   "codemirror_mode": {
    "name": "ipython",
    "version": 3
   },
   "file_extension": ".py",
   "mimetype": "text/x-python",
   "name": "python",
   "nbconvert_exporter": "python",
   "pygments_lexer": "ipython3",
   "version": "3.11.10"
  }
 },
 "nbformat": 4,
 "nbformat_minor": 2
}
