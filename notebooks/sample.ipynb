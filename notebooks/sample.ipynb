{
 "cells": [
  {
   "cell_type": "code",
   "execution_count": null,
   "metadata": {},
   "outputs": [],
   "source": [
    "import os, sys\n",
    "root_dir = '../'\n",
    "sys.path.append(root_dir)\n",
    "from config import config\n",
    "from model.train import evaluate_model"
   ]
  },
  {
   "cell_type": "code",
   "execution_count": 4,
   "metadata": {},
   "outputs": [
    {
     "name": "stdout",
     "output_type": "stream",
     "text": [
      "[300. 300. 300. ... 300. 300. 300.]\n"
     ]
    }
   ],
   "source": [
    "import numpy as np\n",
    "t = 300.0*np.ones(20000)\n",
    "np.savetxt('../md/data4/300K/tmp.dat', t)\n",
    "print(t)"
   ]
  },
  {
   "cell_type": "code",
   "execution_count": null,
   "metadata": {},
   "outputs": [],
   "source": [
    "dir_paths = os.path.join(root_dir, 'output')\n",
    "\n",
    "V_dict = {}\n",
    "V_pred_dict = {}\n",
    "V_pdc_dict = {}\n",
    "n_max = 50\n",
    "\n",
    "dir_paths = os.listdir(dir_paths)\n",
    "dir_path = dir_paths[-1]\n",
    "\n",
    "print(dir_path)"
   ]
  },
  {
   "cell_type": "code",
   "execution_count": null,
   "metadata": {},
   "outputs": [],
   "source": [
    "dir_path = os.path.join(root_dir, 'output', dir_path)\n",
    "path_param = os.path.join(dir_path, 'params/config.yml')\n",
    "cfg = config.load_config(path_param)\n",
    "cfg.path.output = dir_path\n",
    "config.check_config(cfg, save_cfg=False, check_path=False)\n",
    "config.check_path_config(cfg, root_dir, create_new_file=False)\n"
   ]
  },
  {
   "cell_type": "code",
   "execution_count": null,
   "metadata": {},
   "outputs": [],
   "source": [
    "V_pred = evaluate_model(cfg, dir_path)"
   ]
  }
 ],
 "metadata": {
  "kernelspec": {
   "display_name": "torch",
   "language": "python",
   "name": "python3"
  },
  "language_info": {
   "codemirror_mode": {
    "name": "ipython",
    "version": 3
   },
   "file_extension": ".py",
   "mimetype": "text/x-python",
   "name": "python",
   "nbconvert_exporter": "python",
   "pygments_lexer": "ipython3",
   "version": "3.11.10"
  }
 },
 "nbformat": 4,
 "nbformat_minor": 2
}
