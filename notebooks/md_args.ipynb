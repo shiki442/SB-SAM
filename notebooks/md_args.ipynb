{
 "cells": [
  {
   "cell_type": "code",
   "execution_count": 10,
   "id": "27aaee17",
   "metadata": {},
   "outputs": [],
   "source": [
    "stress_cond = ['01', '02', '03']\n",
    "temp_cond = [100, 200, 300, 400, 500, 600, 700, 800, 900, 1000]\n",
    "nsamples = 10000\n",
    "args_path = \"../md/args.txt\"\n",
    "with open(args_path, \"w\") as f:\n",
    "    for s in stress_cond:\n",
    "        for t in temp_cond:\n",
    "            if s == '01':\n",
    "                e1, e2 = 0.0, 0.0\n",
    "            elif s == '02':\n",
    "                e1, e2 = 0.0, 0.01\n",
    "            elif s == '03':\n",
    "                e1, e2 = 0.01, 0.0\n",
    "            f.write(f\"../../SAM_dataset/traindata/{t}_{s} {t} {nsamples} {e1} {e2}\\n\")\n"
   ]
  },
  {
   "cell_type": "code",
   "execution_count": null,
   "id": "b6351db9",
   "metadata": {},
   "outputs": [],
   "source": [
    "import subprocess\n",
    "import os\n",
    "# Convert the file to Unix format\n",
    "subprocess.run([\"dos2unix\", args_path])"
   ]
  }
 ],
 "metadata": {
  "kernelspec": {
   "display_name": "torch",
   "language": "python",
   "name": "python3"
  },
  "language_info": {
   "codemirror_mode": {
    "name": "ipython",
    "version": 3
   },
   "file_extension": ".py",
   "mimetype": "text/x-python",
   "name": "python",
   "nbconvert_exporter": "python",
   "pygments_lexer": "ipython3",
   "version": "3.11.10"
  }
 },
 "nbformat": 4,
 "nbformat_minor": 5
}
