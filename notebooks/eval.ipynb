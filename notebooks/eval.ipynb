{
 "cells": [
  {
   "cell_type": "code",
   "execution_count": null,
   "metadata": {},
   "outputs": [],
   "source": [
    "import os, sys\n",
    "root_dir = '../'\n",
    "sys.path.append(root_dir)\n",
    "from config import config\n",
    "from SAM.train import load_eval\n",
    "from SAM import datasets, utils"
   ]
  },
  {
   "cell_type": "code",
   "execution_count": null,
   "metadata": {},
   "outputs": [],
   "source": [
    "dir_paths = os.path.join(root_dir, 'output')\n",
    "\n",
    "V_dict = {}\n",
    "V_pred_dict = {}\n",
    "V_pdc_dict = {}\n",
    "n_max = 50\n",
    "\n",
    "for dir_path in os.listdir(dir_paths):\n",
    "    print(dir_path)\n",
    "    dir_path = os.path.join(root_dir, 'output', dir_path)\n",
    "    path_param = os.path.join(dir_path, 'params/config.yml')\n",
    "    cfg = config.load_config(path_param)\n",
    "    config.check_device_config(cfg)\n",
    "\n",
    "    cfg.data.n_all_per_dim = cfg.data.n_sam_per_dim\n",
    "    config.check_config(cfg, save_cfg=False, check_path=False)\n",
    "    dataset = datasets.get_dataset(cfg)\n",
    "    potential_fn = utils.get_potential_fn(cfg)\n",
    "\n",
    "    cfg.data.n_all_per_dim = n_max\n",
    "    config.check_config(cfg, save_cfg=False, check_path=False)\n",
    "    dataset_pdc = datasets.get_pdc_dataset(cfg)\n",
    "    \n",
    "    V_pred = load_eval(cfg, dir_path).item()\n",
    "    V = potential_fn(dataset.x_all, dataset.mean).item()\n",
    "    V_pdc = potential_fn(dataset_pdc.x_all, dataset_pdc.mean).item()\n",
    "\n",
    "    params = (cfg.model.k_near, cfg.data.n_sam_per_dim)\n",
    "    V_dict[params] = V\n",
    "    V_pred_dict[params] = V_pred\n",
    "    V_pdc_dict[params] = V_pdc"
   ]
  },
  {
   "cell_type": "code",
   "execution_count": null,
   "metadata": {},
   "outputs": [],
   "source": [
    "from matplotlib import pyplot as plt\n",
    "\n",
    "fig, axes = plt.subplots(nrows=1, ncols=3, sharex=True, sharey=True)\n",
    "\n",
    "k_list = sorted(set(param[0] for param in V_pred_dict.keys()))\n",
    "n_list = sorted(set(param[1] for param in V_pred_dict.keys()))\n",
    "for k in k_list:\n",
    "    V_pred_list = [V_pred_dict[(k, n)] for n in n_list]\n",
    "    V_list = [V_dict[(k, n)] for n in n_list]\n",
    "    V_pdc_list = [V_pdc_dict[(k, n)] for n in n_list]\n",
    "\n",
    "\n",
    "    axes[0].plot(n_list, V_list, marker='o', label=f\" nearest neighbors atoms\")\n",
    "    axes[1].plot(n_list, V_pdc_list, marker='o', label=f\" nearest neighbors atoms\")\n",
    "    axes[2].plot(n_list, V_pred_list, marker='o', label=f\" nearest neighbors atoms\")"
   ]
  }
 ],
 "metadata": {
  "kernelspec": {
   "display_name": "torch",
   "language": "python",
   "name": "python3"
  },
  "language_info": {
   "codemirror_mode": {
    "name": "ipython",
    "version": 3
   },
   "file_extension": ".py",
   "mimetype": "text/x-python",
   "name": "python",
   "nbconvert_exporter": "python",
   "pygments_lexer": "ipython3",
   "version": "3.10.4"
  }
 },
 "nbformat": 4,
 "nbformat_minor": 2
}
