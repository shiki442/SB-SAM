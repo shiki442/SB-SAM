{
 "cells": [
  {
   "cell_type": "code",
   "execution_count": 1,
   "metadata": {},
   "outputs": [],
   "source": [
    "import torch, sys\n",
    "sys.path.append('..')\n",
    "from SAM import datasets, utils, SEED\n",
    "from config import config\n",
    "from matplotlib import pyplot as plt\n",
    "\n",
    "torch.set_printoptions(linewidth=1000, threshold=1000, precision=6)\n",
    "\n",
    "d = 1\n",
    "n_list = [5, 10, 15, 20, 25, 30, 35, 40, 45, 50]\n",
    "k_nearest = [5, 10, 15, 20]\n",
    "\n",
    "# d = 3\n",
    "# n_list = [4,8,12,16,20]\n",
    "# k_nearest = [5,10,15,20]\n",
    "\n",
    "V_list = [[0]*len(n_list)]*len(k_nearest)\n",
    "Veq_list = [[0]*len(n_list)]*len(k_nearest)\n"
   ]
  },
  {
   "cell_type": "code",
   "execution_count": null,
   "metadata": {},
   "outputs": [],
   "source": [
    "fig, axes = plt.subplots(nrows=1, ncols=2, sharex=True, sharey=True)\n",
    "cfg = config.load_config('D:/OneDrive/PC/Code Library/SAM/config/params3.yml')\n",
    "\n",
    "for j in range(len(k_nearest)):\n",
    "    print(\"k_nearest=\", k_nearest[j])\n",
    "    for i in range(len(n_list)):\n",
    "        cfg.model.k_near = k_nearest[j]\n",
    "        cfg.data.n_sam_per_dim = n_list[i]\n",
    "        cfg.data.n_all_per_dim = n_list[i]\n",
    "        config.check_config(cfg, save_cfg=False, check_path=False)\n",
    "        dataset = datasets.get_dataset(cfg)\n",
    "        potential_fn = utils.get_potential_fn(cfg)\n",
    "        V_list[j][i] = potential_fn(dataset.x_sam, dataset.mean).item()\n",
    "\n",
    "        cfg.data.n_all_per_dim = n_list[-1]\n",
    "        config.check_config(cfg, save_cfg=False, check_path=False)\n",
    "        dataset = datasets.get_pdc_dataset(cfg)\n",
    "        Veq_list[j][i] = potential_fn(dataset.x_all, dataset.mean).item()\n",
    "\n",
    "    axes[0].plot(n_list, V_list[j], marker='o',\n",
    "                 label=f\"{k_nearest[j]} nearest neighbors atoms\")\n",
    "    axes[1].plot(n_list, Veq_list[j], marker='o',\n",
    "                 label=f\"{k_nearest[j]} nearest neighbors atoms\")\n",
    "\n",
    "axes[0].set_title(f'd={d},y='r'$\\mathbb{E}u^{T}u/n$')\n",
    "axes[0].legend()\n",
    "axes[0].set_xlim([-1, 55])\n",
    "axes[1].set_title(f'd={d},y='r'$\\mathbb{E}u^{T}u/n$')\n",
    "axes[1].legend()\n",
    "plt.show()"
   ]
  }
 ],
 "metadata": {
  "kernelspec": {
   "display_name": "torch",
   "language": "python",
   "name": "python3"
  },
  "language_info": {
   "codemirror_mode": {
    "name": "ipython",
    "version": 3
   },
   "file_extension": ".py",
   "mimetype": "text/x-python",
   "name": "python",
   "nbconvert_exporter": "python",
   "pygments_lexer": "ipython3",
   "version": "3.10.4"
  }
 },
 "nbformat": 4,
 "nbformat_minor": 2
}
