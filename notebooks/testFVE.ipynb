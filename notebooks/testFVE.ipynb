{
 "cells": [
  {
   "cell_type": "code",
   "execution_count": 2,
   "metadata": {},
   "outputs": [],
   "source": [
    "import torch, sys\n",
    "sys.path.append('..')\n",
    "from model import datasets, utils\n",
    "from config import config\n",
    "from matplotlib import pyplot as plt\n",
    "\n",
    "torch.set_printoptions(linewidth=1000, threshold=1000, precision=6)\n",
    "\n",
    "d = 1\n",
    "n_list = [5, 10, 15, 20, 25, 30, 35, 40, 45, 50]\n",
    "k_nearest = [5, 10, 15, 20]\n",
    "\n",
    "# d = 3\n",
    "# n_list = [4,8,12,16,20]\n",
    "# k_nearest = [5,10,15,20]\n",
    "\n",
    "V_list = [[0]*len(n_list)]*len(k_nearest)\n",
    "Veq_list = [[0]*len(n_list)]*len(k_nearest)\n"
   ]
  },
  {
   "cell_type": "code",
   "execution_count": null,
   "metadata": {},
   "outputs": [
    {
     "name": "stdout",
     "output_type": "stream",
     "text": [
      "k_nearest= 5\n"
     ]
    },
    {
     "ename": "TypeError",
     "evalue": "get_dataset() missing 1 required positional argument: 'mode'",
     "output_type": "error",
     "traceback": [
      "\u001b[1;31m---------------------------------------------------------------------------\u001b[0m",
      "\u001b[1;31mTypeError\u001b[0m                                 Traceback (most recent call last)",
      "Cell \u001b[1;32mIn[6], line 11\u001b[0m\n\u001b[0;32m      9\u001b[0m cfg\u001b[38;5;241m.\u001b[39mdata\u001b[38;5;241m.\u001b[39mnx_max \u001b[38;5;241m=\u001b[39m n_list[i]\n\u001b[0;32m     10\u001b[0m config\u001b[38;5;241m.\u001b[39mcheck_config(cfg, save_cfg\u001b[38;5;241m=\u001b[39m\u001b[38;5;28;01mFalse\u001b[39;00m, check_path\u001b[38;5;241m=\u001b[39m\u001b[38;5;28;01mFalse\u001b[39;00m)\n\u001b[1;32m---> 11\u001b[0m dataset \u001b[38;5;241m=\u001b[39m \u001b[43mdatasets\u001b[49m\u001b[38;5;241;43m.\u001b[39;49m\u001b[43mget_dataset\u001b[49m\u001b[43m(\u001b[49m\u001b[43mcfg\u001b[49m\u001b[43m)\u001b[49m\n\u001b[0;32m     12\u001b[0m potential_fn \u001b[38;5;241m=\u001b[39m utils\u001b[38;5;241m.\u001b[39mget_potential_fn(cfg)\n\u001b[0;32m     13\u001b[0m V_list[j][i] \u001b[38;5;241m=\u001b[39m potential_fn(dataset\u001b[38;5;241m.\u001b[39mx_sam, dataset\u001b[38;5;241m.\u001b[39mmean)\u001b[38;5;241m.\u001b[39mitem()\n",
      "\u001b[1;31mTypeError\u001b[0m: get_dataset() missing 1 required positional argument: 'mode'"
     ]
    },
    {
     "data": {
      "image/png": "[encoded data removed]",
      "text/plain": [
       "<Figure size 640x480 with 2 Axes>"
      ]
     },
     "metadata": {},
     "output_type": "display_data"
    }
   ],
   "source": [
    "fig, axes = plt.subplots(nrows=1, ncols=2, sharex=True, sharey=True)\n",
    "cfg = config.load_config('../config/params3d.yml')\n",
    "\n",
    "for j in range(len(k_nearest)):\n",
    "    print(\"k_nearest=\", k_nearest[j])\n",
    "    for i in range(len(n_list)):\n",
    "        cfg.dynamics.k_near = k_nearest[j]\n",
    "        cfg.data.nx = n_list[i]\n",
    "        cfg.data.nx_max = n_list[i]\n",
    "        config.check_config(cfg, save_cfg=False, check_path=False)\n",
    "        dataset = datasets.get_dataset(cfg, 'quadratic_potential')\n",
    "        potential_fn = utils.get_potential_fn(cfg)\n",
    "        V_list[j][i] = potential_fn(dataset.x_sam, dataset.mean).item()\n",
    "\n",
    "        cfg.data.nx_max = n_list[-1]\n",
    "        config.check_config(cfg, save_cfg=False, check_path=False)\n",
    "        dataset = datasets.get_pdc_dataset(cfg)\n",
    "        Veq_list[j][i] = potential_fn(dataset.x_all, dataset.mean).item()\n",
    "\n",
    "    axes[0].plot(n_list, V_list[j], marker='o',\n",
    "                 label=f\"{k_nearest[j]} nearest neighbors atoms\")\n",
    "    axes[1].plot(n_list, Veq_list[j], marker='o',\n",
    "                 label=f\"{k_nearest[j]} nearest neighbors atoms\")\n",
    "\n",
    "axes[0].set_title(f'd={d},y='r'$\\mathbb{E}u^{T}u/n$')\n",
    "axes[0].legend()\n",
    "axes[0].set_xlim([-1, 55])\n",
    "axes[1].set_title(f'd={d},y='r'$\\mathbb{E}u^{T}u/n$')\n",
    "axes[1].legend()\n",
    "plt.show()"
   ]
  }
 ],
 "metadata": {
  "kernelspec": {
   "display_name": "torch",
   "language": "python",
   "name": "python3"
  },
  "language_info": {
   "codemirror_mode": {
    "name": "ipython",
    "version": 3
   },
   "file_extension": ".py",
   "mimetype": "text/x-python",
   "name": "python",
   "nbconvert_exporter": "python",
   "pygments_lexer": "ipython3",
   "version": "3.11.10"
  }
 },
 "nbformat": 4,
 "nbformat_minor": 2
}
